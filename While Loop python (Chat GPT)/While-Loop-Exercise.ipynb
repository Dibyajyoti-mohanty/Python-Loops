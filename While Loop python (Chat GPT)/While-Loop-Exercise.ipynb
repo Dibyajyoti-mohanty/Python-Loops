{
 "cells": [
  {
   "cell_type": "markdown",
   "metadata": {},
   "source": [
    "### 1. Print numbers from 1 to 10."
   ]
  },
  {
   "cell_type": "code",
   "execution_count": null,
   "metadata": {},
   "outputs": [],
   "source": [
    "print(\"Printing numbers from 1 to 10 using while loop:-\") \n",
    "i = 1\n",
    "while i<=10:\n",
    "    print(i)\n",
    "    i = i+1 "
   ]
  },
  {
   "cell_type": "markdown",
   "metadata": {},
   "source": [
    "### 2. Print even numbers between 1 and 20.\n"
   ]
  },
  {
   "cell_type": "code",
   "execution_count": null,
   "metadata": {},
   "outputs": [],
   "source": [
    "print(\"Printing even numbers between 1 and 20:-\")\n",
    "\n",
    "i = 0\n",
    "while i<=20:\n",
    "    if i%2==0:\n",
    "        print(i)\n",
    "    i = i+1"
   ]
  },
  {
   "cell_type": "markdown",
   "metadata": {},
   "source": [
    "### 3. Print odd numbers between 1 and 20."
   ]
  },
  {
   "cell_type": "code",
   "execution_count": null,
   "metadata": {},
   "outputs": [],
   "source": [
    "print(\"Printing the Odd numbers from 1 to 20:-\")\n",
    "i = 0\n",
    "while i<=20:\n",
    "    if i%2!=0:\n",
    "        print(i)\n",
    "    i = i+1"
   ]
  },
  {
   "cell_type": "markdown",
   "metadata": {},
   "source": [
    "### 4. Print the multiplication table of 5."
   ]
  },
  {
   "cell_type": "code",
   "execution_count": null,
   "metadata": {},
   "outputs": [],
   "source": [
    "print(\"Printing the multiplication table of 5:-\")\n",
    "n = 5\n",
    "i = 1\n",
    "p = 0\n",
    "while i<=10:\n",
    "    p = i*n\n",
    "    print(i,\"x\",n,\"=\",p)\n",
    "    i = i+1"
   ]
  },
  {
   "cell_type": "markdown",
   "metadata": {},
   "source": [
    "### 5. Print the elements of a list."
   ]
  },
  {
   "cell_type": "code",
   "execution_count": null,
   "metadata": {},
   "outputs": [],
   "source": [
    "print(\"Printing the elements of a list :-\")\n",
    "lst = [9,\"Nine\",4,\"Four\",0,\"Zero\"]\n",
    "i = 0\n",
    "while i<=len(lst)-1:\n",
    "    print(lst[i])\n",
    "    i = i+1"
   ]
  },
  {
   "cell_type": "markdown",
   "metadata": {},
   "source": [
    "### 6. Print Elements of a list in reverse order."
   ]
  },
  {
   "cell_type": "code",
   "execution_count": null,
   "metadata": {},
   "outputs": [],
   "source": [
    "print(\"Elements of a list in reverse order\")\n",
    "lst1 = [1,2,3,4]\n",
    "i = len(lst1)-1\n",
    "while i>=0:\n",
    "    print(lst1[i])\n",
    "    i = i-1"
   ]
  },
  {
   "cell_type": "markdown",
   "metadata": {},
   "source": [
    "### 7. Print each character of a string"
   ]
  },
  {
   "cell_type": "code",
   "execution_count": null,
   "metadata": {},
   "outputs": [],
   "source": [
    "print(\"Each chracters of a string :-\")\n",
    "str = (\"Millan\")\n",
    "i = 0\n",
    "while i<=len(str)-1:\n",
    "    print(str[i])\n",
    "    i = i+1"
   ]
  },
  {
   "cell_type": "markdown",
   "metadata": {},
   "source": [
    "### 8.Print the sum of all numbers in a list."
   ]
  },
  {
   "cell_type": "code",
   "execution_count": null,
   "metadata": {},
   "outputs": [],
   "source": [
    "print(\"Sum of all elements in a list\")\n",
    "lst2 = [10,20,40,30]\n",
    "i = 0\n",
    "sum= 0\n",
    "while i<=len(lst2)-1:\n",
    "    sum=sum+lst2[i]\n",
    "    print(sum)\n",
    "    i = i+1\n",
    "print(\"Total =\",sum)"
   ]
  },
  {
   "cell_type": "markdown",
   "metadata": {},
   "source": [
    "### 9. Print the product of all numbers in a list."
   ]
  },
  {
   "cell_type": "code",
   "execution_count": null,
   "metadata": {},
   "outputs": [],
   "source": [
    "print(\"Product of all elements in a list :-\")\n",
    "lst3 = [2,3,4,5]\n",
    "i = 0\n",
    "pro = 1\n",
    "while i<=len(lst3)-1:\n",
    "    pro = pro*lst3[i]\n",
    "    i = i+1\n",
    "print(\"Product =\",pro)"
   ]
  },
  {
   "cell_type": "markdown",
   "metadata": {},
   "source": [
    "### 10. Print the square of each elements in a list."
   ]
  },
  {
   "cell_type": "code",
   "execution_count": null,
   "metadata": {},
   "outputs": [],
   "source": [
    "print(\"Square of each element in a list.\")\n",
    "lst4 = [1,2,3,4,5]\n",
    "sq = 1\n",
    "i = 0\n",
    "while i<=len(lst4)-1:\n",
    "    sq = lst4[i]**2\n",
    "    print(\"Sqare of \",lst4[i],\"is\",sq)\n",
    "    i = i+1\n"
   ]
  },
  {
   "cell_type": "markdown",
   "metadata": {},
   "source": [
    "### 11. Print the cube of each element in a list."
   ]
  },
  {
   "cell_type": "code",
   "execution_count": null,
   "metadata": {},
   "outputs": [],
   "source": [
    "print(\"Cube of all the elements in a list.\")\n",
    "lst5 = [1,2,3]\n",
    "cube = 1\n",
    "i = 0\n",
    "while i<=len(lst5)-1:\n",
    "    cube = lst5[i]**3\n",
    "    print(\"Cube of\",lst5[i],\"is\",cube)\n",
    "    i =i+1\n"
   ]
  },
  {
   "cell_type": "code",
   "execution_count": null,
   "metadata": {},
   "outputs": [],
   "source": [
    "[\"Cube of \"+ str(i)  + \" is:- \"+ str(i**3)  for i in lst5]"
   ]
  },
  {
   "cell_type": "markdown",
   "metadata": {},
   "source": [
    "### 12. Print the factorial of a given number."
   ]
  },
  {
   "cell_type": "code",
   "execution_count": null,
   "metadata": {},
   "outputs": [],
   "source": [
    "print(\"factorial of a given number :-\")\n",
    "n = 3\n",
    "fact = 1\n",
    "i = 1\n",
    "while i<=n:\n",
    "    fact = fact*i\n",
    "    print(fact)\n",
    "    i = i+1\n"
   ]
  },
  {
   "cell_type": "markdown",
   "metadata": {},
   "source": [
    "### 13. Print the length of each string in a list."
   ]
  },
  {
   "cell_type": "code",
   "execution_count": null,
   "metadata": {},
   "outputs": [],
   "source": [
    "%%time\n",
    "print(\"Length of the each string in a list:- \")\n",
    "str1 = [\"Python\",\"Java\",\"HTML\",\"CSS\"]\n",
    "i = 0\n",
    "while i<=len(str1)-1:\n",
    "    print(str1[i],\"--\",len(str1[i]))\n",
    "    i = i+1\n",
    "\n"
   ]
  },
  {
   "cell_type": "code",
   "execution_count": null,
   "metadata": {},
   "outputs": [],
   "source": [
    "ls6 = [\"python\",\"java\",\"html\",\"css\"]\n",
    "for i in [ i.upper() for i in ls6]:\n",
    "    print(i)"
   ]
  },
  {
   "cell_type": "code",
   "execution_count": null,
   "metadata": {},
   "outputs": [],
   "source": [
    "ls7 = [12000,20000,25000,15000]\n",
    "bonus = 10\n",
    "[ \" cur-sal (\" + str(i) + \") + bon \"+ str(bonus)+\"% (\"+str(i*bonus/100)+\") = \" +  str(i+(i*bonus/100)) for i in ls7  ]"
   ]
  },
  {
   "cell_type": "code",
   "execution_count": null,
   "metadata": {},
   "outputs": [],
   "source": [
    "%%time\n",
    "for i in range(len(str1)):\n",
    "    print(str1[i],\"--\",len(str1[i]))\n",
    "\n",
    "\n"
   ]
  },
  {
   "cell_type": "code",
   "execution_count": null,
   "metadata": {},
   "outputs": [],
   "source": [
    "%%time\n",
    "for i in str1:\n",
    "    print(i,len(i))"
   ]
  },
  {
   "cell_type": "code",
   "execution_count": null,
   "metadata": {},
   "outputs": [],
   "source": [
    "%%time\n",
    "ls = []\n",
    "for i in str1:\n",
    "    ls.append(len(i))\n",
    "print(ls)"
   ]
  },
  {
   "cell_type": "code",
   "execution_count": null,
   "metadata": {},
   "outputs": [],
   "source": [
    "#Print the length of each string in a list.\n",
    "ls1 = [\"Python\",\"Java\",\"HTML\",\"CSS\"]\n",
    "[i+str(1) for i in ls1]\n"
   ]
  },
  {
   "cell_type": "code",
   "execution_count": null,
   "metadata": {},
   "outputs": [],
   "source": [
    "ls1 = [\"Python\",\"Java\",\"HTML\",\"CSS\"]\n",
    "[ str(i)  for i in range(len(ls1))]"
   ]
  },
  {
   "cell_type": "code",
   "execution_count": null,
   "metadata": {},
   "outputs": [],
   "source": [
    "#List Comprehension method\n",
    "\n",
    "ls1 = [\"Python\",\"Java\",\"HTML\",\"CSS\"]\n",
    "[i +\" = \"+ str(len(i)) for i in ls1]"
   ]
  },
  {
   "cell_type": "code",
   "execution_count": null,
   "metadata": {},
   "outputs": [],
   "source": [
    "# Find square of each elements from 1 to 6.\n",
    "[  \"sq of \"+str(i)+\" is \"+str(i**2) for i in range(1,6)]"
   ]
  },
  {
   "cell_type": "markdown",
   "metadata": {},
   "source": [
    "### 14. Print the first 10 Fibonacci numbers."
   ]
  },
  {
   "cell_type": "code",
   "execution_count": 50,
   "metadata": {},
   "outputs": [
    {
     "name": "stdout",
     "output_type": "stream",
     "text": [
      "0\n",
      "1\n",
      "3\n",
      "6\n",
      "10\n",
      "15\n",
      "21\n",
      "28\n",
      "36\n",
      "45\n",
      "55\n"
     ]
    }
   ],
   "source": [
    "# 1,1,2,3,5,8.....\n",
    "# Print the first 10 Fibonacci numbers.\n",
    "n = 10\n",
    "i = 0\n",
    "f = 0\n",
    "while i<=n:\n",
    "    f = f+i\n",
    "    print(f)\n",
    "    i = i+1\n",
    "    "
   ]
  },
  {
   "cell_type": "markdown",
   "metadata": {},
   "source": [
    "### 15. Print the reverse the elements in a list."
   ]
  },
  {
   "cell_type": "code",
   "execution_count": null,
   "metadata": {},
   "outputs": [],
   "source": [
    "ls8 = [1,2,3,4]\n",
    "rev = []\n",
    "i = len(ls8)-1\n",
    "while i>=0:\n",
    "    rev.append(ls8[i])\n",
    "    #print(rev)\n",
    "    i = i -1    # decrement for the reverse order\n",
    "print(rev)\n"
   ]
  },
  {
   "cell_type": "markdown",
   "metadata": {},
   "source": [
    "### 16. Print the sum of digits of a given number."
   ]
  },
  {
   "cell_type": "code",
   "execution_count": 26,
   "metadata": {},
   "outputs": [
    {
     "name": "stdout",
     "output_type": "stream",
     "text": [
      "Sum of digits of the given number is  30\n"
     ]
    }
   ],
   "source": [
    "n = 69348\n",
    "i = 0\n",
    "m = 0\n",
    "sum = 0\n",
    "while n>0:\n",
    "    m = n%10     #find the last digit\n",
    "    sum = sum+m  #find the sum of digits\n",
    "    n = n//10    #removing the last digit\n",
    "    # print(sum)\n",
    "    i=i+1\n",
    "print(\"Sum of digits of the given number is \",sum)\n"
   ]
  },
  {
   "cell_type": "markdown",
   "metadata": {},
   "source": [
    "### 17. Print the average of numbers in a list."
   ]
  },
  {
   "cell_type": "code",
   "execution_count": 32,
   "metadata": {},
   "outputs": [
    {
     "name": "stdout",
     "output_type": "stream",
     "text": [
      "The average of the given numbers in the list is:-  3.5\n"
     ]
    }
   ],
   "source": [
    "ls9 = [1,2,3,4,5,6]\n",
    "avg = 0\n",
    "sum1 = 0\n",
    "i = 0\n",
    "while i<=len(ls9)-1:\n",
    "    sum1 = sum1+ls9[i]\n",
    "    avg = sum1/len(ls9)\n",
    "    #print(avg)\n",
    "    i = i+1\n",
    "print(\"The average of the given numbers in the list is:- \",avg)"
   ]
  },
  {
   "cell_type": "code",
   "execution_count": 30,
   "metadata": {},
   "outputs": [
    {
     "data": {
      "text/plain": [
       "3.5"
      ]
     },
     "execution_count": 30,
     "metadata": {},
     "output_type": "execute_result"
    }
   ],
   "source": [
    "(1+2+3+4+5+6)/6"
   ]
  },
  {
   "cell_type": "markdown",
   "metadata": {},
   "source": [
    "### 18. Print the index and value of each element in a list."
   ]
  },
  {
   "cell_type": "code",
   "execution_count": 34,
   "metadata": {},
   "outputs": [
    {
     "name": "stdout",
     "output_type": "stream",
     "text": [
      "index: 0 Value: 10\n",
      "index: 1 Value: 20\n",
      "index: 2 Value: 30\n",
      "index: 3 Value: 40\n",
      "index: 4 Value: 50\n"
     ]
    }
   ],
   "source": [
    "ls10 = [10,20,30,40,50]\n",
    "i = 0\n",
    "while i<=len(ls10)-1:\n",
    "    print(\"index:\",i,\"Value:\",ls10[i])\n",
    "    i= i+1"
   ]
  },
  {
   "cell_type": "code",
   "execution_count": 47,
   "metadata": {},
   "outputs": [],
   "source": [
    "# Function for check the number is palindrome or not.\n",
    "\n",
    "def palindrome(n):\n",
    "\n",
    "    import copy\n",
    "    #rough code\n",
    "    # reversing a number\n",
    "    n = n\n",
    "    n1 = copy.copy(n)\n",
    "    rev = 0\n",
    "    md = 0\n",
    "    i = 0\n",
    "    while n>0:\n",
    "        md = n%10\n",
    "        rev = rev*10+md\n",
    "        #print(rev)\n",
    "        n = n//10\n",
    "        i = i+1\n",
    "\n",
    "    if rev == n1:\n",
    "        return (\"palindrome\")\n",
    "    else:\n",
    "        return (\"not palindrome\")"
   ]
  },
  {
   "cell_type": "code",
   "execution_count": 48,
   "metadata": {},
   "outputs": [
    {
     "data": {
      "text/plain": [
       "'palindrome'"
      ]
     },
     "execution_count": 48,
     "metadata": {},
     "output_type": "execute_result"
    }
   ],
   "source": [
    "palindrome(1001)"
   ]
  },
  {
   "cell_type": "markdown",
   "metadata": {},
   "source": [
    "### 19. Print all palindromes in a list of strings."
   ]
  },
  {
   "cell_type": "code",
   "execution_count": 49,
   "metadata": {},
   "outputs": [
    {
     "name": "stdout",
     "output_type": "stream",
     "text": [
      "palindrome\n",
      "palindrome\n",
      "palindrome\n",
      "not palindrome\n",
      "not palindrome\n",
      "not palindrome\n",
      "palindrome\n"
     ]
    }
   ],
   "source": [
    "ls11 = [212,31313,12321,1234,9348,934349,145541]\n",
    "rev = 0\n",
    "i = 0\n",
    "while i <= len(ls11)-1:\n",
    "    p = palindrome(ls11[i])\n",
    "    print(p)\n",
    "    i = i+1\n"
   ]
  },
  {
   "cell_type": "markdown",
   "metadata": {},
   "source": [
    "### 20. Reverse each string of a list."
   ]
  },
  {
   "cell_type": "code",
   "execution_count": 62,
   "metadata": {},
   "outputs": [
    {
     "name": "stdout",
     "output_type": "stream",
     "text": [
      "Reverse of each string in the list\n",
      "nohtyp\n",
      "avaj\n",
      "C\n",
      "++C\n"
     ]
    }
   ],
   "source": [
    "print(\"Reverse of each string in the list\")\n",
    "str1 = [\"python\",\"java\",\"C\",\"C++\"]\n",
    "i = 0\n",
    "while i<=len(str1)-1:\n",
    "    print(str1[i][::-1])\n",
    "    i = i+1"
   ]
  },
  {
   "cell_type": "markdown",
   "metadata": {},
   "source": [
    "### 21. Print the index and character of each character in a string."
   ]
  },
  {
   "cell_type": "code",
   "execution_count": 70,
   "metadata": {},
   "outputs": [
    {
     "name": "stdout",
     "output_type": "stream",
     "text": [
      "Index -->  0 chr-->  a\n",
      "Index -->  1 chr-->  p\n",
      "Index -->  2 chr-->  p\n",
      "Index -->  3 chr-->  l\n",
      "Index -->  4 chr-->  e\n"
     ]
    }
   ],
   "source": [
    "str2 = \"apple\"\n",
    "i = 0\n",
    "while i<= len(str2)-1:\n",
    "    print(\"Index --> \",i,\"chr--> \",str2[i])\n",
    "    i = i+1"
   ]
  },
  {
   "cell_type": "markdown",
   "metadata": {},
   "source": [
    "### 22.Print the sum of digits of a given number."
   ]
  },
  {
   "cell_type": "code",
   "execution_count": 76,
   "metadata": {},
   "outputs": [
    {
     "name": "stdout",
     "output_type": "stream",
     "text": [
      "Sum of each digit of the given number is :- 10\n"
     ]
    }
   ],
   "source": [
    "n1 = 1234\n",
    "sum = 0\n",
    "md = 0\n",
    "i = 0\n",
    "while n1>0:\n",
    "    md = n1%10\n",
    "    n1 = n1//10\n",
    "    sum = sum+md\n",
    "    i = i+1\n",
    "print(\"Sum of each digit of the given number is :-\",sum)"
   ]
  },
  {
   "cell_type": "markdown",
   "metadata": {},
   "source": [
    "### 23.Print the common elements between two lists."
   ]
  },
  {
   "cell_type": "code",
   "execution_count": 7,
   "metadata": {},
   "outputs": [
    {
     "name": "stdout",
     "output_type": "stream",
     "text": [
      "These are the common elements in the list :-\n",
      "['a', 'b', 'c']\n"
     ]
    }
   ],
   "source": [
    "print(\"These are the common elements in the list :-\")\n",
    "ls12 = ['a','b','c','d']\n",
    "ls13 = ['b','e','c','a']\n",
    "ls14 = []\n",
    "i = 0\n",
    "while i<=len(ls12)-1:\n",
    "    if ls12[i] in ls13:\n",
    "        ls14.append(ls12[i])\n",
    "    i = i+1\n",
    "print(ls14)"
   ]
  },
  {
   "cell_type": "markdown",
   "metadata": {},
   "source": [
    "### 24. Print the elements in a list that are not in another list."
   ]
  },
  {
   "cell_type": "code",
   "execution_count": 10,
   "metadata": {},
   "outputs": [
    {
     "name": "stdout",
     "output_type": "stream",
     "text": [
      "uncommon elements in the list :-\n",
      "['d']\n"
     ]
    }
   ],
   "source": [
    "print(\"uncommon elements in the list :-\")\n",
    "ls15 = ['a','b','c','d']\n",
    "ls16 = ['b','e','c','a']\n",
    "ls17 = []\n",
    "i = 0\n",
    "while i<=len(ls15)-1:\n",
    "    if ls15[i] not in ls16:\n",
    "        ls17.append(ls15[i])\n",
    "    i = i+1\n",
    "print(ls17)"
   ]
  },
  {
   "cell_type": "markdown",
   "metadata": {},
   "source": [
    "### 25. Print the frequency of each element in a list."
   ]
  },
  {
   "cell_type": "code",
   "execution_count": 7,
   "metadata": {},
   "outputs": [
    {
     "name": "stdout",
     "output_type": "stream",
     "text": [
      "['a', 'b', 'c', 'd', 'e']\n"
     ]
    }
   ],
   "source": [
    "ls19 = ['a', 'b', 'c', 'a', 'b', 'a', 'd', 'c', 'c', 'e']\n",
    "i = 0\n",
    "fr = 0\n",
    "ls20 = []\n",
    "while i<=len(ls19)-1:\n",
    "    if ls19[i] not in ls20:\n",
    "       ls20.append(ls19[i])\n",
    "    i = i+1 \n",
    "print(ls20)"
   ]
  },
  {
   "cell_type": "code",
   "execution_count": 12,
   "metadata": {},
   "outputs": [
    {
     "name": "stdout",
     "output_type": "stream",
     "text": [
      "a --> 3 times\n",
      "b --> 2 times\n",
      "c --> 3 times\n",
      "d --> 1 times\n",
      "e --> 1 times\n"
     ]
    }
   ],
   "source": [
    "ls19 = ['a', 'b', 'c', 'a', 'b', 'a', 'd', 'c', 'c', 'e']\n",
    "i = 0\n",
    "j = 0\n",
    "fr = 0\n",
    "ls20 = []\n",
    "while i<=len(ls19)-1:\n",
    "    if ls19[i] not in ls20:\n",
    "       ls20.append(ls19[i])\n",
    "    while j <=len(ls20)-1:\n",
    "        fr = ls19.count(ls20[j])\n",
    "        print(ls20[j],\"-->\",fr,\"times\")\n",
    "        j = j+1\n",
    "    i = i+1\n",
    "\n",
    "\n",
    "    \n",
    "  "
   ]
  },
  {
   "cell_type": "code",
   "execution_count": 20,
   "metadata": {},
   "outputs": [
    {
     "name": "stdout",
     "output_type": "stream",
     "text": [
      "('a', 3)\n",
      "('b', 2)\n",
      "('c', 3)\n",
      "('d', 1)\n",
      "('e', 1)\n",
      "('f', 2)\n",
      "('g', 2)\n",
      "('h', 2)\n",
      "('1', 2)\n",
      "('2', 2)\n",
      "[('a', 3), ('b', 2), ('c', 3), ('d', 1), ('e', 1), ('f', 2), ('g', 2), ('h', 2), ('1', 2), ('2', 2)]\n"
     ]
    }
   ],
   "source": [
    "ls19 = ['a', 'b', 'c', 'a', 'b', 'a', 'd', 'c', 'c', 'e','f','g','h','g','h','f','1','2','1','2']\n",
    "i = 0\n",
    "j = 0\n",
    "fr = 0\n",
    "# re = ()\n",
    "ls20 = []\n",
    "ls21 = []\n",
    "while i<=len(ls19)-1:\n",
    "    if ls19[i] not in ls20:\n",
    "       ls20.append(ls19[i])\n",
    "    while j <=len(ls20)-1:\n",
    "        fr = ls19.count(ls20[j])\n",
    "        re = (ls20[j],fr)\n",
    "        print(re)\n",
    "        j = j+1\n",
    "        ls21.append(re)\n",
    "    # print(ls21)\n",
    "    i = i+1\n",
    "print(ls21)\n",
    "\n",
    "\n",
    "    \n",
    "  "
   ]
  },
  {
   "cell_type": "code",
   "execution_count": 16,
   "metadata": {},
   "outputs": [
    {
     "data": {
      "text/plain": [
       "tuple"
      ]
     },
     "execution_count": 16,
     "metadata": {},
     "output_type": "execute_result"
    }
   ],
   "source": [
    "type(re)"
   ]
  },
  {
   "cell_type": "code",
   "execution_count": 30,
   "metadata": {},
   "outputs": [
    {
     "name": "stdout",
     "output_type": "stream",
     "text": [
      "[['kiwi', 'mango', 'kiwi', 'kiwi', 'kiwi', 'honeydew', 'fig', 'kiwi', 'cherry'], ['apple', 'banana', 'kiwi', 'banana', 'lemon', 'lemon'], ['lemon', 'apple', 'cherry', 'apple', 'apple', 'kiwi', 'honeydew'], ['mango', 'grape', 'fig', 'kiwi', 'mango', 'mango', 'apple'], ['kiwi', 'grape', 'mango', 'banana', 'fig', 'apple', 'honeydew', 'apple', 'date', 'kiwi'], ['lemon', 'date', 'apple', 'date', 'lemon', 'fig', 'mango', 'honeydew'], ['lemon', 'banana', 'mango', 'date', 'date', 'fig', 'lemon'], ['grape', 'banana', 'banana', 'cherry', 'honeydew', 'cherry', 'fig'], ['fig', 'kiwi', 'date', 'mango', 'kiwi', 'date', 'fig'], ['cherry', 'mango', 'honeydew', 'date', 'mango', 'honeydew'], ['fig', 'banana', 'fig', 'fig', 'banana', 'kiwi', 'date', 'honeydew'], ['cherry', 'kiwi', 'date', 'mango', 'mango', 'cherry', 'fig', 'cherry', 'kiwi'], ['honeydew', 'honeydew', 'lemon', 'date', 'lemon', 'honeydew', 'banana', 'kiwi'], ['cherry', 'honeydew', 'honeydew', 'mango', 'banana'], ['date', 'banana', 'grape', 'mango', 'grape', 'kiwi', 'mango', 'kiwi']]\n"
     ]
    }
   ],
   "source": [
    "file_path = r\"C:\\Users\\milla\\Downloads\\random_text_file.txt\"\n",
    "with open(file_path, \"r\") as file:\n",
    "    lines = file.readlines()\n",
    "list_new = [line.strip().split() for line in lines]\n",
    "print(list_new)\n",
    "# print(\"Using readlines to read the file into a list:\")\n",
    "# for line in lines:\n",
    "#     print(line.strip())"
   ]
  },
  {
   "cell_type": "code",
   "execution_count": 32,
   "metadata": {},
   "outputs": [
    {
     "name": "stdout",
     "output_type": "stream",
     "text": [
      "('kiwi', 18)\n",
      "('mango', 15)\n",
      "('honeydew', 13)\n",
      "('fig', 12)\n",
      "('cherry', 9)\n",
      "('apple', 8)\n",
      "('banana', 11)\n",
      "('lemon', 9)\n",
      "('grape', 5)\n",
      "('date', 12)\n",
      "[('kiwi', 18), ('mango', 15), ('honeydew', 13), ('fig', 12), ('cherry', 9), ('apple', 8), ('banana', 11), ('lemon', 9), ('grape', 5), ('date', 12)]\n"
     ]
    }
   ],
   "source": [
    "\n",
    "\n",
    "\n",
    "\n",
    "file_path = r\"C:\\Users\\milla\\Downloads\\random_text_file.txt\"\n",
    "\n",
    "# Open the file and read all its contents\n",
    "with open(file_path, \"r\") as file:\n",
    "    content = file.read()\n",
    "\n",
    "# Split the content into words\n",
    "\n",
    "ls19 = content.split()\n",
    "\n",
    "\n",
    "\n",
    "i = 0\n",
    "j = 0\n",
    "fr = 0\n",
    "# re = ()\n",
    "ls20 = []\n",
    "ls21 = []\n",
    "while i<=len(ls19)-1:\n",
    "    if ls19[i] not in ls20:\n",
    "       ls20.append(ls19[i])\n",
    "    while j <=len(ls20)-1:\n",
    "        fr = ls19.count(ls20[j])\n",
    "        re = (ls20[j],fr)\n",
    "        print(re)\n",
    "        j = j+1\n",
    "        ls21.append(re)\n",
    "    # print(ls21)\n",
    "    i = i+1\n",
    "print(ls21)\n"
   ]
  },
  {
   "cell_type": "code",
   "execution_count": 46,
   "metadata": {},
   "outputs": [],
   "source": [
    "def word_count(lst_name,bol=0):\n",
    "    ls19 = lst_name\n",
    "    \n",
    "    i = 0\n",
    "    j = 0\n",
    "    fr = 0\n",
    "    # re = ()\n",
    "    ls20 = []\n",
    "    ls21 = []\n",
    "    while i<=len(ls19)-1:\n",
    "        if ls19[i] not in ls20:\n",
    "            ls20.append(ls19[i])\n",
    "        while j <=len(ls20)-1:\n",
    "            fr = ls19.count(ls20[j])\n",
    "            re = (ls20[j],fr)\n",
    "            #print(re)\n",
    "            j = j+1\n",
    "            ls21.append(re)\n",
    "        i = i+1\n",
    "    sorted_data = sorted(ls21, key=lambda x: x[1], reverse=bol)  #sorting the frequency \n",
    "    return sorted_data"
   ]
  },
  {
   "cell_type": "code",
   "execution_count": 47,
   "metadata": {},
   "outputs": [
    {
     "name": "stdout",
     "output_type": "stream",
     "text": [
      "[('kiwi', 18), ('mango', 15), ('honeydew', 13), ('fig', 12), ('date', 12), ('banana', 11), ('cherry', 9), ('lemon', 9), ('apple', 8), ('grape', 5)]\n"
     ]
    }
   ],
   "source": [
    "file_path = r\"C:\\Users\\milla\\Downloads\\random_text_file.txt\"\n",
    "\n",
    "# Open the file and read all its contents\n",
    "with open(file_path, \"r\") as file:\n",
    "    content = file.read().split()\n",
    "\n",
    "# Split the content into words\n",
    "\n",
    "print(word_count(content,True))\n"
   ]
  },
  {
   "cell_type": "code",
   "execution_count": null,
   "metadata": {},
   "outputs": [],
   "source": [
    "data = [('kiwi', 18), ('mango', 15), ('honeydew', 13), ('fig', 12), ('cherry', 9), \n",
    "        ('apple', 8), ('banana', 11), ('lemon', 9), ('grape', 5), ('date', 12)]\n",
    "\n",
    "# Sort by the integer part of each tuple in descending order\n",
    "sorted_data = sorted(data, key=lambda x: x[1], reverse=True)\n",
    "\n",
    "print(sorted_data)\n"
   ]
  },
  {
   "cell_type": "markdown",
   "metadata": {},
   "source": [
    "### 26.Print unique elements of a list"
   ]
  },
  {
   "cell_type": "code",
   "execution_count": 7,
   "metadata": {},
   "outputs": [
    {
     "name": "stdout",
     "output_type": "stream",
     "text": [
      "These are unique elements of the list:- \n",
      "['kiwi', 'mango', 'honeydew', 'fig', 'date']\n"
     ]
    }
   ],
   "source": [
    "print(\"These are unique elements of the list:- \")\n",
    "lst1 = ['kiwi','mango','honeydew','fig','date','kiwi','mango']\n",
    "lst2 = []\n",
    "i = 0\n",
    "while i <= len(lst1)-1:\n",
    "    if lst1[i] not in lst2:\n",
    "        lst2.append(lst1[i])\n",
    "    \n",
    "    i = i+1\n",
    "print(lst2)\n"
   ]
  },
  {
   "cell_type": "markdown",
   "metadata": {},
   "source": [
    "### 27. Print all the elements that appear more than once in a list."
   ]
  },
  {
   "cell_type": "code",
   "execution_count": 19,
   "metadata": {},
   "outputs": [
    {
     "name": "stdout",
     "output_type": "stream",
     "text": [
      "Elements that occurs more than once in the list :- [1, 2, 3, 4, 5, 6]\n"
     ]
    }
   ],
   "source": [
    "lst6 = [1, 2, 3, 1, 2, 3, 4, 4, 5, 6, 5, 6]\n",
    "lst7 = []\n",
    "i = 0\n",
    "while i <= len(lst6)-1:\n",
    "    if lst6[i] not in lst7:\n",
    "        lst7.append(lst6[i])\n",
    "    i = i+1\n",
    "print(\"Elements that occurs more than once in the list :-\",lst7)"
   ]
  },
  {
   "cell_type": "markdown",
   "metadata": {},
   "source": [
    "### 28. Print the numbers from 1 to 100 that are divisible by both 3 and 5"
   ]
  },
  {
   "cell_type": "code",
   "execution_count": 16,
   "metadata": {},
   "outputs": [
    {
     "name": "stdout",
     "output_type": "stream",
     "text": [
      "Print the numbers from 1 to 100 that are divisible by both 3 and 5 :-\n",
      "0\n",
      "15\n",
      "30\n",
      "45\n",
      "60\n",
      "75\n",
      "90\n"
     ]
    }
   ],
   "source": [
    "print(\"Print the numbers from 1 to 100 that are divisible by both 3 and 5 :-\")\n",
    "n = 100\n",
    "i = 0\n",
    "while i <= n:\n",
    "    if i%3 == 0 and i%5 == 0:\n",
    "        print(i)\n",
    "    i = i+1"
   ]
  },
  {
   "cell_type": "markdown",
   "metadata": {},
   "source": [
    "### 29. "
   ]
  },
  {
   "cell_type": "code",
   "execution_count": null,
   "metadata": {},
   "outputs": [],
   "source": []
  },
  {
   "cell_type": "code",
   "execution_count": null,
   "metadata": {},
   "outputs": [],
   "source": []
  },
  {
   "cell_type": "code",
   "execution_count": null,
   "metadata": {},
   "outputs": [],
   "source": []
  },
  {
   "cell_type": "code",
   "execution_count": null,
   "metadata": {},
   "outputs": [],
   "source": []
  },
  {
   "cell_type": "code",
   "execution_count": null,
   "metadata": {},
   "outputs": [],
   "source": []
  },
  {
   "cell_type": "code",
   "execution_count": null,
   "metadata": {},
   "outputs": [],
   "source": []
  },
  {
   "cell_type": "code",
   "execution_count": null,
   "metadata": {},
   "outputs": [],
   "source": []
  },
  {
   "cell_type": "code",
   "execution_count": null,
   "metadata": {},
   "outputs": [],
   "source": []
  },
  {
   "cell_type": "code",
   "execution_count": null,
   "metadata": {},
   "outputs": [],
   "source": []
  },
  {
   "cell_type": "code",
   "execution_count": null,
   "metadata": {},
   "outputs": [],
   "source": []
  },
  {
   "cell_type": "code",
   "execution_count": null,
   "metadata": {},
   "outputs": [],
   "source": []
  },
  {
   "cell_type": "code",
   "execution_count": null,
   "metadata": {},
   "outputs": [],
   "source": []
  },
  {
   "cell_type": "code",
   "execution_count": null,
   "metadata": {},
   "outputs": [],
   "source": []
  },
  {
   "cell_type": "code",
   "execution_count": null,
   "metadata": {},
   "outputs": [],
   "source": []
  }
 ],
 "metadata": {
  "kernelspec": {
   "display_name": "Python 3",
   "language": "python",
   "name": "python3"
  },
  "language_info": {
   "codemirror_mode": {
    "name": "ipython",
    "version": 3
   },
   "file_extension": ".py",
   "mimetype": "text/x-python",
   "name": "python",
   "nbconvert_exporter": "python",
   "pygments_lexer": "ipython3",
   "version": "3.11.9"
  }
 },
 "nbformat": 4,
 "nbformat_minor": 2
}
