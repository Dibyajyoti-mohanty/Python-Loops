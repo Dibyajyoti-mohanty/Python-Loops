{
 "cells": [
  {
   "cell_type": "markdown",
   "metadata": {},
   "source": [
    "### 1. Print numbers from 1 to 10."
   ]
  },
  {
   "cell_type": "code",
   "execution_count": 1,
   "metadata": {},
   "outputs": [
    {
     "name": "stdout",
     "output_type": "stream",
     "text": [
      "Printing numbers from 1 to 10 using while loop:-\n",
      "1\n",
      "2\n",
      "3\n",
      "4\n",
      "5\n",
      "6\n",
      "7\n",
      "8\n",
      "9\n",
      "10\n"
     ]
    }
   ],
   "source": [
    "print(\"Printing numbers from 1 to 10 using while loop:-\") \n",
    "i = 1\n",
    "while i<=10:\n",
    "    print(i)\n",
    "    i = i+1 "
   ]
  },
  {
   "cell_type": "markdown",
   "metadata": {},
   "source": [
    "### 2. Print even numbers between 1 and 20.\n"
   ]
  },
  {
   "cell_type": "code",
   "execution_count": 2,
   "metadata": {},
   "outputs": [
    {
     "name": "stdout",
     "output_type": "stream",
     "text": [
      "Printing even numbers between 1 and 20:-\n",
      "0\n",
      "2\n",
      "4\n",
      "6\n",
      "8\n",
      "10\n",
      "12\n",
      "14\n",
      "16\n",
      "18\n",
      "20\n"
     ]
    }
   ],
   "source": [
    "print(\"Printing even numbers between 1 and 20:-\")\n",
    "\n",
    "i = 0\n",
    "while i<=20:\n",
    "    if i%2==0:\n",
    "        print(i)\n",
    "    i = i+1"
   ]
  },
  {
   "cell_type": "markdown",
   "metadata": {},
   "source": [
    "### 3. Print odd numbers between 1 and 20."
   ]
  },
  {
   "cell_type": "code",
   "execution_count": 3,
   "metadata": {},
   "outputs": [
    {
     "name": "stdout",
     "output_type": "stream",
     "text": [
      "Printing the Odd numbers from 1 to 20:-\n",
      "1\n",
      "3\n",
      "5\n",
      "7\n",
      "9\n",
      "11\n",
      "13\n",
      "15\n",
      "17\n",
      "19\n"
     ]
    }
   ],
   "source": [
    "print(\"Printing the Odd numbers from 1 to 20:-\")\n",
    "i = 0\n",
    "while i<=20:\n",
    "    if i%2!=0:\n",
    "        print(i)\n",
    "    i = i+1"
   ]
  },
  {
   "cell_type": "markdown",
   "metadata": {},
   "source": [
    "### 4. Print the multiplication table of 5."
   ]
  },
  {
   "cell_type": "code",
   "execution_count": 4,
   "metadata": {},
   "outputs": [
    {
     "name": "stdout",
     "output_type": "stream",
     "text": [
      "Printing the multiplication table of 5:-\n",
      "1 x 5 = 5\n",
      "2 x 5 = 10\n",
      "3 x 5 = 15\n",
      "4 x 5 = 20\n",
      "5 x 5 = 25\n",
      "6 x 5 = 30\n",
      "7 x 5 = 35\n",
      "8 x 5 = 40\n",
      "9 x 5 = 45\n",
      "10 x 5 = 50\n"
     ]
    }
   ],
   "source": [
    "print(\"Printing the multiplication table of 5:-\")\n",
    "n = 5\n",
    "i = 1\n",
    "p = 0\n",
    "while i<=10:\n",
    "    p = i*n\n",
    "    print(i,\"x\",n,\"=\",p)\n",
    "    i = i+1"
   ]
  },
  {
   "cell_type": "markdown",
   "metadata": {},
   "source": [
    "### 5. Print the elements of a list."
   ]
  },
  {
   "cell_type": "code",
   "execution_count": 1,
   "metadata": {},
   "outputs": [
    {
     "name": "stdout",
     "output_type": "stream",
     "text": [
      "Printing the elements of a list :-\n",
      "9\n",
      "Nine\n",
      "4\n",
      "Four\n",
      "0\n",
      "Zero\n"
     ]
    }
   ],
   "source": [
    "print(\"Printing the elements of a list :-\")\n",
    "lst = [9,\"Nine\",4,\"Four\",0,\"Zero\"]\n",
    "i = 0\n",
    "while i<=len(lst)-1:\n",
    "    print(lst[i])\n",
    "    i = i+1"
   ]
  },
  {
   "cell_type": "markdown",
   "metadata": {},
   "source": [
    "### 6. Print Elements of a list in reverse order."
   ]
  },
  {
   "cell_type": "code",
   "execution_count": 20,
   "metadata": {},
   "outputs": [
    {
     "name": "stdout",
     "output_type": "stream",
     "text": [
      "Elements of a list in reverse order\n",
      "4\n",
      "3\n",
      "2\n",
      "1\n"
     ]
    }
   ],
   "source": [
    "print(\"Elements of a list in reverse order\")\n",
    "lst1 = [1,2,3,4]\n",
    "i = len(lst1)-1\n",
    "while i>=0:\n",
    "    print(lst1[i])\n",
    "    i = i-1"
   ]
  },
  {
   "cell_type": "markdown",
   "metadata": {},
   "source": [
    "### 7. Print each character of a string"
   ]
  },
  {
   "cell_type": "code",
   "execution_count": 25,
   "metadata": {},
   "outputs": [
    {
     "name": "stdout",
     "output_type": "stream",
     "text": [
      "Each chracters of a string :-\n",
      "M\n",
      "i\n",
      "l\n",
      "l\n",
      "a\n",
      "n\n"
     ]
    }
   ],
   "source": [
    "print(\"Each chracters of a string :-\")\n",
    "str = (\"Millan\")\n",
    "i = 0\n",
    "while i<=len(str)-1:\n",
    "    print(str[i])\n",
    "    i = i+1"
   ]
  },
  {
   "cell_type": "markdown",
   "metadata": {},
   "source": [
    "### 8.Print the sum of all numbers in a list."
   ]
  },
  {
   "cell_type": "code",
   "execution_count": 36,
   "metadata": {},
   "outputs": [
    {
     "name": "stdout",
     "output_type": "stream",
     "text": [
      "Sum of all elements in a list\n",
      "10\n",
      "30\n",
      "70\n",
      "100\n",
      "Total = 100\n"
     ]
    }
   ],
   "source": [
    "print(\"Sum of all elements in a list\")\n",
    "lst2 = [10,20,40,30]\n",
    "i = 0\n",
    "sum= 0\n",
    "while i<=len(lst2)-1:\n",
    "    sum=sum+lst2[i]\n",
    "    print(sum)\n",
    "    i = i+1\n",
    "print(\"Total =\",sum)"
   ]
  },
  {
   "cell_type": "markdown",
   "metadata": {},
   "source": [
    "### 9. Print the product of all numbers in a list."
   ]
  },
  {
   "cell_type": "code",
   "execution_count": 39,
   "metadata": {},
   "outputs": [
    {
     "name": "stdout",
     "output_type": "stream",
     "text": [
      "Product of all elements in a list :-\n",
      "Product = 120\n"
     ]
    }
   ],
   "source": [
    "print(\"Product of all elements in a list :-\")\n",
    "lst3 = [2,3,4,5]\n",
    "i = 0\n",
    "pro = 1\n",
    "while i<=len(lst3)-1:\n",
    "    pro = pro*lst3[i]\n",
    "    i = i+1\n",
    "print(\"Product =\",pro)"
   ]
  },
  {
   "cell_type": "markdown",
   "metadata": {},
   "source": [
    "### 10. Print the square of each elements in a list."
   ]
  },
  {
   "cell_type": "code",
   "execution_count": 46,
   "metadata": {},
   "outputs": [
    {
     "name": "stdout",
     "output_type": "stream",
     "text": [
      "Square of each element in a list.\n",
      "Sqare of  1 is 1\n",
      "Sqare of  2 is 4\n",
      "Sqare of  3 is 9\n",
      "Sqare of  4 is 16\n",
      "Sqare of  5 is 25\n"
     ]
    }
   ],
   "source": [
    "print(\"Square of each element in a list.\")\n",
    "lst4 = [1,2,3,4,5]\n",
    "sq = 1\n",
    "i = 0\n",
    "while i<=len(lst4)-1:\n",
    "    sq = lst4[i]**2\n",
    "    print(\"Sqare of \",lst4[i],\"is\",sq)\n",
    "    i = i+1\n"
   ]
  },
  {
   "cell_type": "markdown",
   "metadata": {},
   "source": [
    "### 11. Print the cube of each element in a list."
   ]
  },
  {
   "cell_type": "code",
   "execution_count": 50,
   "metadata": {},
   "outputs": [
    {
     "name": "stdout",
     "output_type": "stream",
     "text": [
      "Cube of all the elements in a list.\n",
      "Cube of 1 is 1\n",
      "Cube of 2 is 8\n",
      "Cube of 3 is 27\n"
     ]
    }
   ],
   "source": [
    "print(\"Cube of all the elements in a list.\")\n",
    "lst5 = [1,2,3]\n",
    "cube = 1\n",
    "i = 0\n",
    "while i<=len(lst5)-1:\n",
    "    cube = lst5[i]**3\n",
    "    print(\"Cube of\",lst5[i],\"is\",cube)\n",
    "    i =i+1\n"
   ]
  },
  {
   "cell_type": "markdown",
   "metadata": {},
   "source": [
    "### 12. Print the factorial of a given number."
   ]
  },
  {
   "cell_type": "code",
   "execution_count": 56,
   "metadata": {},
   "outputs": [
    {
     "name": "stdout",
     "output_type": "stream",
     "text": [
      "factorial of a given number :-\n",
      "1\n",
      "2\n",
      "6\n",
      "24\n",
      "120\n"
     ]
    }
   ],
   "source": [
    "print(\"factorial of a given number :-\")\n",
    "n = 5\n",
    "fact = 1\n",
    "i = 1\n",
    "while i<=5:\n",
    "    fact = fact*i\n",
    "    print(fact)\n",
    "    i = i+1\n"
   ]
  },
  {
   "cell_type": "markdown",
   "metadata": {},
   "source": [
    "### 13. Print the length of each string in a list."
   ]
  },
  {
   "cell_type": "code",
   "execution_count": 60,
   "metadata": {},
   "outputs": [
    {
     "name": "stdout",
     "output_type": "stream",
     "text": [
      "Length of the each string in a list:- \n",
      "Python -- 6\n",
      "Java -- 4\n",
      "HTML -- 4\n",
      "CSS -- 3\n"
     ]
    }
   ],
   "source": [
    "print(\"Length of the each string in a list:- \")\n",
    "str1 = [\"Python\",\"Java\",\"HTML\",\"CSS\"]\n",
    "i = 0\n",
    "while i<=len(str1)-1:\n",
    "    print(str1[i],\"--\",len(str1[i]))\n",
    "    i = i+1"
   ]
  },
  {
   "cell_type": "code",
   "execution_count": null,
   "metadata": {},
   "outputs": [],
   "source": []
  },
  {
   "cell_type": "code",
   "execution_count": null,
   "metadata": {},
   "outputs": [],
   "source": []
  },
  {
   "cell_type": "code",
   "execution_count": null,
   "metadata": {},
   "outputs": [],
   "source": []
  },
  {
   "cell_type": "code",
   "execution_count": null,
   "metadata": {},
   "outputs": [],
   "source": []
  },
  {
   "cell_type": "code",
   "execution_count": null,
   "metadata": {},
   "outputs": [],
   "source": []
  },
  {
   "cell_type": "code",
   "execution_count": null,
   "metadata": {},
   "outputs": [],
   "source": []
  },
  {
   "cell_type": "code",
   "execution_count": null,
   "metadata": {},
   "outputs": [],
   "source": []
  },
  {
   "cell_type": "code",
   "execution_count": null,
   "metadata": {},
   "outputs": [],
   "source": []
  }
 ],
 "metadata": {
  "kernelspec": {
   "display_name": "Python 3",
   "language": "python",
   "name": "python3"
  },
  "language_info": {
   "codemirror_mode": {
    "name": "ipython",
    "version": 3
   },
   "file_extension": ".py",
   "mimetype": "text/x-python",
   "name": "python",
   "nbconvert_exporter": "python",
   "pygments_lexer": "ipython3",
   "version": "3.11.9"
  }
 },
 "nbformat": 4,
 "nbformat_minor": 2
}
