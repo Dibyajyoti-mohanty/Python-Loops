{
  "cells": [
    {
      "cell_type": "markdown",
      "metadata": {
        "id": "view-in-github",
        "colab_type": "text"
      },
      "source": [
        "<a href=\"https://colab.research.google.com/github/Dibyajyoti-mohanty/Python-Loops/blob/main/While%20Loop%20python%20(Chat%20GPT)/While-Loop-Exercise.ipynb\" target=\"_parent\"><img src=\"https://colab.research.google.com/assets/colab-badge.svg\" alt=\"Open In Colab\"/></a>"
      ]
    },
    {
      "cell_type": "code",
      "execution_count": null,
      "metadata": {
        "id": "ko76RgHuuDE9"
      },
      "outputs": [],
      "source": [
        "### 1. Print numbers from 1 to 10.\n",
        "print(\"Printing numbers from 1 to 10 using while loop:-\")\n",
        "i = 1\n",
        "while i<=10:\n",
        "    print(i)\n",
        "    i = i+1\n"
      ]
    },
    {
      "cell_type": "code",
      "execution_count": null,
      "metadata": {
        "id": "VPjKrweZuDFB"
      },
      "outputs": [],
      "source": [
        "### 2. Print even numbers between 1 and 20.\n",
        "\n",
        "print(\"Printing even numbers between 1 and 20:-\")\n",
        "\n",
        "i = 0\n",
        "while i<=20:\n",
        "    if i%2==0:\n",
        "        print(i)\n",
        "    i = i+1\n"
      ]
    },
    {
      "cell_type": "code",
      "execution_count": null,
      "metadata": {
        "id": "Z1OE892tuDFD"
      },
      "outputs": [],
      "source": [
        "### 3. Print odd numbers between 1 and 20.\n",
        "print(\"Printing the Odd numbers from 1 to 20:-\")\n",
        "i = 0\n",
        "while i<=20:\n",
        "    if i%2!=0:\n",
        "        print(i)\n",
        "    i = i+1\n"
      ]
    },
    {
      "cell_type": "code",
      "execution_count": null,
      "metadata": {
        "id": "z-yOhbJsuDFE"
      },
      "outputs": [],
      "source": [
        "### 4. Print the multiplication table of 5.\n",
        "print(\"Printing the multiplication table of 5:-\")\n",
        "n = 5\n",
        "i = 1\n",
        "p = 0\n",
        "while i<=10:\n",
        "    p = i*n\n",
        "    print(i,\"x\",n,\"=\",p)\n",
        "    i = i+1\n"
      ]
    },
    {
      "cell_type": "code",
      "execution_count": null,
      "metadata": {
        "id": "FEthvYZbuDFF"
      },
      "outputs": [],
      "source": [
        "### 5. Print the elements of a list.\n",
        "print(\"Printing the elements of a list :-\")\n",
        "lst = [9,\"Nine\",4,\"Four\",0,\"Zero\"]\n",
        "i = 0\n",
        "while i<=len(lst)-1:\n",
        "    print(lst[i])\n",
        "    i = i+1\n"
      ]
    }
  ],
  "metadata": {
    "kernelspec": {
      "display_name": "Python 3",
      "language": "python",
      "name": "python3"
    },
    "language_info": {
      "codemirror_mode": {
        "name": "ipython",
        "version": 3
      },
      "file_extension": ".py",
      "mimetype": "text/x-python",
      "name": "python",
      "nbconvert_exporter": "python",
      "pygments_lexer": "ipython3",
      "version": "3.8.5"
    },
    "colab": {
      "provenance": [],
      "include_colab_link": true
    }
  },
  "nbformat": 4,
  "nbformat_minor": 0
}